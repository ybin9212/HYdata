{
 "cells": [
  {
   "cell_type": "markdown",
   "metadata": {},
   "source": [
    "## 실습#1 우리학교는 어디에?"
   ]
  },
  {
   "cell_type": "markdown",
   "metadata": {},
   "source": [
    "### (1) 라이브러리 설정"
   ]
  },
  {
   "cell_type": "code",
   "execution_count": 27,
   "metadata": {},
   "outputs": [],
   "source": [
    "import sys\n",
    "import time\n",
    "from selenium import webdriver\n",
    "from bs4 import BeautifulSoup\n",
    "import pandas as pd"
   ]
  },
  {
   "cell_type": "markdown",
   "metadata": {},
   "source": [
    "### (2) 데이터 수집하기(셀레니엄 활용)"
   ]
  },
  {
   "cell_type": "code",
   "execution_count": 28,
   "metadata": {},
   "outputs": [],
   "source": [
    "# 웹드라이버의 주소를 적고, 웹사이트 불러오기\n",
    "# driver = webdriver.Chrome('C:\\chromedriver_win32\\chromedriver')driver = webdriver.Chrome(\n",
    "driver = webdriver.Chrome('C:/chromedriver')\n",
    "driver.get(\"http://krsearch.co.kr/\")"
   ]
  },
  {
   "cell_type": "code",
   "execution_count": 29,
   "metadata": {},
   "outputs": [],
   "source": [
    "# 학교 리스트\n",
    "q_list = ['원곡고등학교','상록고등학교', '양지고등학교', '안산고등학교', '초지고등학교', '불곡고등학교', '부일초등학교', '심원중학교', '한국조리과학고등학교']"
   ]
  },
  {
   "cell_type": "code",
   "execution_count": 30,
   "metadata": {},
   "outputs": [],
   "source": [
    "# 고등학교 검색\n",
    "all_data = []\n",
    "for q in q_list:\n",
    "    search_element = driver.find_element_by_name('p')\n",
    "    search_element.clear()\n",
    "    search_element.send_keys(q)\n",
    "# 검색 후 클릭\n",
    "    search_button = driver.find_element_by_class_name(\"searchbtn2\")\n",
    "    search_button.click()\n",
    "# 검색결과 수집\n",
    "    pageSource = driver.page_source\n",
    "    bsObj = BeautifulSoup(pageSource, 'html.parser')\n",
    "    school=[]\n",
    "    data = bsObj.find_all('td',{\"class\":\"bbslist\"})\n",
    "    school.append(data[0].get_text().strip())\n",
    "    school.append(data[1].get_text().strip())\n",
    "    driver.get(\"http://krsearch.co.kr/\")\n",
    "    all_data.append(school)"
   ]
  },
  {
   "cell_type": "code",
   "execution_count": 31,
   "metadata": {},
   "outputs": [
    {
     "data": {
      "text/plain": [
       "[['원곡고등학교', '경기도 안산시 단원구 원곡동 965-1번지'],\n",
       " ['상록고등학교', '경기도 안산시 상록구 본오동 산127-1번지'],\n",
       " ['양지고등학교', '경기도 안산시 단원구 고잔동 713번지'],\n",
       " ['안산고등학교', '경기도 안산시 상록구 청룡4길 8'],\n",
       " ['초지고등학교', '경기도 안산시 단원구 광덕1로 13'],\n",
       " ['불곡고등학교', '경기도 성남시 분당구 금곡로 149번지'],\n",
       " ['인천부일초등학교', '인천광역시 부평구 부개3동 499-85'],\n",
       " ['심원중학교', '경기도 부천시 원미구 중2동 1097-1'],\n",
       " ['한국조리과학고등학교', '경기도 시흥시 과림동 11-1']]"
      ]
     },
     "execution_count": 31,
     "metadata": {},
     "output_type": "execute_result"
    }
   ],
   "source": [
    "# 데이터 확인\n",
    "all_data"
   ]
  },
  {
   "cell_type": "code",
   "execution_count": 32,
   "metadata": {},
   "outputs": [],
   "source": [
    "# DataFrame 형태로 바꾸기\n",
    "fdata = pd.DataFrame(all_data, columns = ['name','address'])"
   ]
  },
  {
   "cell_type": "code",
   "execution_count": 33,
   "metadata": {},
   "outputs": [
    {
     "data": {
      "text/html": [
       "<div>\n",
       "<style scoped>\n",
       "    .dataframe tbody tr th:only-of-type {\n",
       "        vertical-align: middle;\n",
       "    }\n",
       "\n",
       "    .dataframe tbody tr th {\n",
       "        vertical-align: top;\n",
       "    }\n",
       "\n",
       "    .dataframe thead th {\n",
       "        text-align: right;\n",
       "    }\n",
       "</style>\n",
       "<table border=\"1\" class=\"dataframe\">\n",
       "  <thead>\n",
       "    <tr style=\"text-align: right;\">\n",
       "      <th></th>\n",
       "      <th>name</th>\n",
       "      <th>address</th>\n",
       "    </tr>\n",
       "  </thead>\n",
       "  <tbody>\n",
       "    <tr>\n",
       "      <th>0</th>\n",
       "      <td>원곡고등학교</td>\n",
       "      <td>경기도 안산시 단원구 원곡동 965-1번지</td>\n",
       "    </tr>\n",
       "    <tr>\n",
       "      <th>1</th>\n",
       "      <td>상록고등학교</td>\n",
       "      <td>경기도 안산시 상록구 본오동 산127-1번지</td>\n",
       "    </tr>\n",
       "    <tr>\n",
       "      <th>2</th>\n",
       "      <td>양지고등학교</td>\n",
       "      <td>경기도 안산시 단원구 고잔동 713번지</td>\n",
       "    </tr>\n",
       "    <tr>\n",
       "      <th>3</th>\n",
       "      <td>안산고등학교</td>\n",
       "      <td>경기도 안산시 상록구 청룡4길 8</td>\n",
       "    </tr>\n",
       "    <tr>\n",
       "      <th>4</th>\n",
       "      <td>초지고등학교</td>\n",
       "      <td>경기도 안산시 단원구 광덕1로 13</td>\n",
       "    </tr>\n",
       "    <tr>\n",
       "      <th>5</th>\n",
       "      <td>불곡고등학교</td>\n",
       "      <td>경기도 성남시 분당구 금곡로 149번지</td>\n",
       "    </tr>\n",
       "    <tr>\n",
       "      <th>6</th>\n",
       "      <td>인천부일초등학교</td>\n",
       "      <td>인천광역시 부평구 부개3동 499-85</td>\n",
       "    </tr>\n",
       "    <tr>\n",
       "      <th>7</th>\n",
       "      <td>심원중학교</td>\n",
       "      <td>경기도 부천시 원미구 중2동 1097-1</td>\n",
       "    </tr>\n",
       "    <tr>\n",
       "      <th>8</th>\n",
       "      <td>한국조리과학고등학교</td>\n",
       "      <td>경기도 시흥시 과림동 11-1</td>\n",
       "    </tr>\n",
       "  </tbody>\n",
       "</table>\n",
       "</div>"
      ],
      "text/plain": [
       "         name                   address\n",
       "0      원곡고등학교   경기도 안산시 단원구 원곡동 965-1번지\n",
       "1      상록고등학교  경기도 안산시 상록구 본오동 산127-1번지\n",
       "2      양지고등학교     경기도 안산시 단원구 고잔동 713번지\n",
       "3      안산고등학교        경기도 안산시 상록구 청룡4길 8\n",
       "4      초지고등학교       경기도 안산시 단원구 광덕1로 13\n",
       "5      불곡고등학교     경기도 성남시 분당구 금곡로 149번지\n",
       "6    인천부일초등학교     인천광역시 부평구 부개3동 499-85\n",
       "7       심원중학교    경기도 부천시 원미구 중2동 1097-1\n",
       "8  한국조리과학고등학교          경기도 시흥시 과림동 11-1"
      ]
     },
     "execution_count": 33,
     "metadata": {},
     "output_type": "execute_result"
    }
   ],
   "source": [
    "fdata"
   ]
  },
  {
   "cell_type": "markdown",
   "metadata": {},
   "source": [
    "### (3) 위/경도 정보 만들기¶"
   ]
  },
  {
   "cell_type": "code",
   "execution_count": 34,
   "metadata": {},
   "outputs": [],
   "source": [
    "import requests\n",
    "import json\n",
    "\n",
    "def get_latitude_longitude(addr):\n",
    "    '''\n",
    "    DESCRIPTION: 주소를 입력하면 위도(latitude)/경도(longitude)를 반환하는 함수 \n",
    "    ex) get_latitude_longitude('경기도 안산시 상록구 한양대학로 55')\n",
    "    '''\n",
    "    location = addr\n",
    "    response = requests.get('http://maps.googleapis.com/maps/api/geocode/json?sensor=false&language=ko&address=' + location)    \n",
    "    loc_dict = json.loads(response.text)\n",
    "    latitude = loc_dict['results'][0]['geometry']['location']['lat'] \n",
    "    longitude = loc_dict['results'][0]['geometry']['location']['lng']\n",
    "    return [latitude, longitude]"
   ]
  },
  {
   "cell_type": "code",
   "execution_count": 36,
   "metadata": {},
   "outputs": [],
   "source": [
    "# 위/경도 정보로 저장해 새로운 데이터 형성 후 저장하기\n",
    "latitude_list = []\n",
    "longitude_list = []\n",
    "for i in fdata['address'].values:\n",
    "    lat, lon = get_latitude_longitude(i)\n",
    "    latitude_list.append(lat)\n",
    "    longitude_list.append(lon)\n",
    "\n",
    "fdata['latitude'] = latitude_list\n",
    "fdata['longitude'] = longitude_list"
   ]
  },
  {
   "cell_type": "code",
   "execution_count": 37,
   "metadata": {},
   "outputs": [
    {
     "data": {
      "text/html": [
       "<div>\n",
       "<style scoped>\n",
       "    .dataframe tbody tr th:only-of-type {\n",
       "        vertical-align: middle;\n",
       "    }\n",
       "\n",
       "    .dataframe tbody tr th {\n",
       "        vertical-align: top;\n",
       "    }\n",
       "\n",
       "    .dataframe thead th {\n",
       "        text-align: right;\n",
       "    }\n",
       "</style>\n",
       "<table border=\"1\" class=\"dataframe\">\n",
       "  <thead>\n",
       "    <tr style=\"text-align: right;\">\n",
       "      <th></th>\n",
       "      <th>name</th>\n",
       "      <th>address</th>\n",
       "      <th>latitude</th>\n",
       "      <th>longitude</th>\n",
       "    </tr>\n",
       "  </thead>\n",
       "  <tbody>\n",
       "    <tr>\n",
       "      <th>0</th>\n",
       "      <td>원곡고등학교</td>\n",
       "      <td>경기도 안산시 단원구 원곡동 965-1번지</td>\n",
       "      <td>37.333300</td>\n",
       "      <td>126.798053</td>\n",
       "    </tr>\n",
       "    <tr>\n",
       "      <th>1</th>\n",
       "      <td>상록고등학교</td>\n",
       "      <td>경기도 안산시 상록구 본오동 산127-1번지</td>\n",
       "      <td>37.299510</td>\n",
       "      <td>126.874971</td>\n",
       "    </tr>\n",
       "    <tr>\n",
       "      <th>2</th>\n",
       "      <td>양지고등학교</td>\n",
       "      <td>경기도 안산시 단원구 고잔동 713번지</td>\n",
       "      <td>37.309535</td>\n",
       "      <td>126.822268</td>\n",
       "    </tr>\n",
       "    <tr>\n",
       "      <th>3</th>\n",
       "      <td>안산고등학교</td>\n",
       "      <td>경기도 안산시 상록구 청룡4길 8</td>\n",
       "      <td>37.360044</td>\n",
       "      <td>126.873672</td>\n",
       "    </tr>\n",
       "    <tr>\n",
       "      <th>4</th>\n",
       "      <td>초지고등학교</td>\n",
       "      <td>경기도 안산시 단원구 광덕1로 13</td>\n",
       "      <td>37.309868</td>\n",
       "      <td>126.810919</td>\n",
       "    </tr>\n",
       "    <tr>\n",
       "      <th>5</th>\n",
       "      <td>불곡고등학교</td>\n",
       "      <td>경기도 성남시 분당구 금곡로 149번지</td>\n",
       "      <td>37.348080</td>\n",
       "      <td>127.119199</td>\n",
       "    </tr>\n",
       "    <tr>\n",
       "      <th>6</th>\n",
       "      <td>인천부일초등학교</td>\n",
       "      <td>인천광역시 부평구 부개3동 499-85</td>\n",
       "      <td>37.500816</td>\n",
       "      <td>126.741244</td>\n",
       "    </tr>\n",
       "    <tr>\n",
       "      <th>7</th>\n",
       "      <td>심원중학교</td>\n",
       "      <td>경기도 부천시 원미구 중2동 1097-1</td>\n",
       "      <td>37.499926</td>\n",
       "      <td>126.782620</td>\n",
       "    </tr>\n",
       "    <tr>\n",
       "      <th>8</th>\n",
       "      <td>한국조리과학고등학교</td>\n",
       "      <td>경기도 시흥시 과림동 11-1</td>\n",
       "      <td>37.458561</td>\n",
       "      <td>126.832687</td>\n",
       "    </tr>\n",
       "  </tbody>\n",
       "</table>\n",
       "</div>"
      ],
      "text/plain": [
       "         name                   address   latitude   longitude\n",
       "0      원곡고등학교   경기도 안산시 단원구 원곡동 965-1번지  37.333300  126.798053\n",
       "1      상록고등학교  경기도 안산시 상록구 본오동 산127-1번지  37.299510  126.874971\n",
       "2      양지고등학교     경기도 안산시 단원구 고잔동 713번지  37.309535  126.822268\n",
       "3      안산고등학교        경기도 안산시 상록구 청룡4길 8  37.360044  126.873672\n",
       "4      초지고등학교       경기도 안산시 단원구 광덕1로 13  37.309868  126.810919\n",
       "5      불곡고등학교     경기도 성남시 분당구 금곡로 149번지  37.348080  127.119199\n",
       "6    인천부일초등학교     인천광역시 부평구 부개3동 499-85  37.500816  126.741244\n",
       "7       심원중학교    경기도 부천시 원미구 중2동 1097-1  37.499926  126.782620\n",
       "8  한국조리과학고등학교          경기도 시흥시 과림동 11-1  37.458561  126.832687"
      ]
     },
     "execution_count": 37,
     "metadata": {},
     "output_type": "execute_result"
    }
   ],
   "source": [
    "fdata"
   ]
  },
  {
   "cell_type": "code",
   "execution_count": 38,
   "metadata": {},
   "outputs": [],
   "source": [
    "import folium\n",
    "# 오류수정 17.10.10 - Latitude, Longitude를 latitude, longitude로 변경. \n",
    "hanyang_univ_map = folium.Map(location=[37.298524, 126.834712], zoom_start=10)\n",
    "for l in fdata[['name', 'latitude', 'longitude']].values:\n",
    "    folium.CircleMarker(l[1:], popup=l[0], color='red', fill_color='red', radius=5).add_to(hanyang_univ_map)"
   ]
  },
  {
   "cell_type": "code",
   "execution_count": 39,
   "metadata": {},
   "outputs": [
    {
     "data": {
      "text/html": [
       "<div style=\"width:100%;\"><div style=\"position:relative;width:100%;height:0;padding-bottom:60%;\"><iframe src=\"data:text/html;charset=utf-8;base64,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\" style=\"position:absolute;width:100%;height:100%;left:0;top:0;border:none !important;\" allowfullscreen webkitallowfullscreen mozallowfullscreen></iframe></div></div>"
      ],
      "text/plain": [
       "<folium.folium.Map at 0x240b257c5f8>"
      ]
     },
     "execution_count": 39,
     "metadata": {},
     "output_type": "execute_result"
    }
   ],
   "source": [
    "hanyang_univ_map"
   ]
  },
  {
   "cell_type": "markdown",
   "metadata": {},
   "source": [
    "## 실습#2 제일 가까운 학교는?"
   ]
  },
  {
   "cell_type": "markdown",
   "metadata": {},
   "source": [
    "### (1) 기준 위치 설정하기"
   ]
  },
  {
   "cell_type": "code",
   "execution_count": 40,
   "metadata": {},
   "outputs": [],
   "source": [
    "# 주소를 기반으로 위/경도 데이터 얻기\n",
    "#my_location = get_latitude_longitude('경기도 안산시 상록구 사3동 한양대학로55 한양대학교 경상대학')\n",
    "my_location = [37.296755, 126.836194]\n",
    "my_location_name = '한양대학교 제4공학관'"
   ]
  },
  {
   "cell_type": "code",
   "execution_count": 41,
   "metadata": {},
   "outputs": [
    {
     "data": {
      "text/plain": [
       "[37.299846, 126.835935]"
      ]
     },
     "execution_count": 41,
     "metadata": {},
     "output_type": "execute_result"
    }
   ],
   "source": [
    "get_latitude_longitude('경기도 안산시 상록구 사3동 한양대학로55 한양대학교 경상대학')"
   ]
  },
  {
   "cell_type": "markdown",
   "metadata": {},
   "source": [
    "### (2) 위치 계산기 만들기"
   ]
  },
  {
   "cell_type": "code",
   "execution_count": 42,
   "metadata": {},
   "outputs": [],
   "source": [
    "import math\n",
    "def haversine(my_location, target_location):\n",
    "    '''\n",
    "    DESCRIPTION: 두 위도경도 사이의 대원거리(great circle distance)를 계산. 위도경도는 각도 단위로 계산.\n",
    "    '''\n",
    "    latitude1, longitude1 = my_location\n",
    "    latitude2, longitude2 = target_location\n",
    "    lat1, lon1, lat2, lon2 = map(math.radians, [latitude1, longitude1, latitude2, longitude2])\n",
    "    \n",
    "    d_lat = lat2 - lat1\n",
    "    d_lon = lon2 - lon1\n",
    "    \n",
    "    a = math.sin(d_lat / 2) ** 2 + math.cos(lat1) * math.cos(lat2) * math.sin(d_lon / 2) ** 2\n",
    "    c = 2 * math.atan2(math.sqrt(a), math.sqrt(1-a))\n",
    "    \n",
    "    meter = 6367 * c * 1000\n",
    "    return round(meter, 2)"
   ]
  },
  {
   "cell_type": "markdown",
   "metadata": {},
   "source": [
    "### (3) 거리 정보 저장하기"
   ]
  },
  {
   "cell_type": "code",
   "execution_count": 43,
   "metadata": {},
   "outputs": [],
   "source": [
    "# 계산된 거리 정보 리스트화 하기\n",
    "distance_list = []\n",
    "for r in fdata[['latitude', 'longitude']].values:\n",
    "    distance_list.append(haversine(my_location, r))"
   ]
  },
  {
   "cell_type": "code",
   "execution_count": 44,
   "metadata": {},
   "outputs": [
    {
     "data": {
      "text/plain": [
       "[5277.85,\n",
       " 3441.52,\n",
       " 1879.41,\n",
       " 7773.66,\n",
       " 2667.32,\n",
       " 25651.42,\n",
       " 24175.98,\n",
       " 23067.52,\n",
       " 17983.33]"
      ]
     },
     "execution_count": 44,
     "metadata": {},
     "output_type": "execute_result"
    }
   ],
   "source": [
    "distance_list"
   ]
  },
  {
   "cell_type": "code",
   "execution_count": 46,
   "metadata": {},
   "outputs": [],
   "source": [
    "#기존의 school_df 데이터프레임 데이터에 정보 추가하기\n",
    "fdata['distance'] = distance_list"
   ]
  },
  {
   "cell_type": "code",
   "execution_count": 47,
   "metadata": {},
   "outputs": [
    {
     "data": {
      "text/html": [
       "<div>\n",
       "<style scoped>\n",
       "    .dataframe tbody tr th:only-of-type {\n",
       "        vertical-align: middle;\n",
       "    }\n",
       "\n",
       "    .dataframe tbody tr th {\n",
       "        vertical-align: top;\n",
       "    }\n",
       "\n",
       "    .dataframe thead th {\n",
       "        text-align: right;\n",
       "    }\n",
       "</style>\n",
       "<table border=\"1\" class=\"dataframe\">\n",
       "  <thead>\n",
       "    <tr style=\"text-align: right;\">\n",
       "      <th></th>\n",
       "      <th>name</th>\n",
       "      <th>address</th>\n",
       "      <th>latitude</th>\n",
       "      <th>longitude</th>\n",
       "      <th>distance</th>\n",
       "    </tr>\n",
       "  </thead>\n",
       "  <tbody>\n",
       "    <tr>\n",
       "      <th>0</th>\n",
       "      <td>원곡고등학교</td>\n",
       "      <td>경기도 안산시 단원구 원곡동 965-1번지</td>\n",
       "      <td>37.333300</td>\n",
       "      <td>126.798053</td>\n",
       "      <td>5277.85</td>\n",
       "    </tr>\n",
       "    <tr>\n",
       "      <th>1</th>\n",
       "      <td>상록고등학교</td>\n",
       "      <td>경기도 안산시 상록구 본오동 산127-1번지</td>\n",
       "      <td>37.299510</td>\n",
       "      <td>126.874971</td>\n",
       "      <td>3441.52</td>\n",
       "    </tr>\n",
       "    <tr>\n",
       "      <th>2</th>\n",
       "      <td>양지고등학교</td>\n",
       "      <td>경기도 안산시 단원구 고잔동 713번지</td>\n",
       "      <td>37.309535</td>\n",
       "      <td>126.822268</td>\n",
       "      <td>1879.41</td>\n",
       "    </tr>\n",
       "    <tr>\n",
       "      <th>3</th>\n",
       "      <td>안산고등학교</td>\n",
       "      <td>경기도 안산시 상록구 청룡4길 8</td>\n",
       "      <td>37.360044</td>\n",
       "      <td>126.873672</td>\n",
       "      <td>7773.66</td>\n",
       "    </tr>\n",
       "    <tr>\n",
       "      <th>4</th>\n",
       "      <td>초지고등학교</td>\n",
       "      <td>경기도 안산시 단원구 광덕1로 13</td>\n",
       "      <td>37.309868</td>\n",
       "      <td>126.810919</td>\n",
       "      <td>2667.32</td>\n",
       "    </tr>\n",
       "    <tr>\n",
       "      <th>5</th>\n",
       "      <td>불곡고등학교</td>\n",
       "      <td>경기도 성남시 분당구 금곡로 149번지</td>\n",
       "      <td>37.348080</td>\n",
       "      <td>127.119199</td>\n",
       "      <td>25651.42</td>\n",
       "    </tr>\n",
       "    <tr>\n",
       "      <th>6</th>\n",
       "      <td>인천부일초등학교</td>\n",
       "      <td>인천광역시 부평구 부개3동 499-85</td>\n",
       "      <td>37.500816</td>\n",
       "      <td>126.741244</td>\n",
       "      <td>24175.98</td>\n",
       "    </tr>\n",
       "    <tr>\n",
       "      <th>7</th>\n",
       "      <td>심원중학교</td>\n",
       "      <td>경기도 부천시 원미구 중2동 1097-1</td>\n",
       "      <td>37.499926</td>\n",
       "      <td>126.782620</td>\n",
       "      <td>23067.52</td>\n",
       "    </tr>\n",
       "    <tr>\n",
       "      <th>8</th>\n",
       "      <td>한국조리과학고등학교</td>\n",
       "      <td>경기도 시흥시 과림동 11-1</td>\n",
       "      <td>37.458561</td>\n",
       "      <td>126.832687</td>\n",
       "      <td>17983.33</td>\n",
       "    </tr>\n",
       "  </tbody>\n",
       "</table>\n",
       "</div>"
      ],
      "text/plain": [
       "         name                   address   latitude   longitude  distance\n",
       "0      원곡고등학교   경기도 안산시 단원구 원곡동 965-1번지  37.333300  126.798053   5277.85\n",
       "1      상록고등학교  경기도 안산시 상록구 본오동 산127-1번지  37.299510  126.874971   3441.52\n",
       "2      양지고등학교     경기도 안산시 단원구 고잔동 713번지  37.309535  126.822268   1879.41\n",
       "3      안산고등학교        경기도 안산시 상록구 청룡4길 8  37.360044  126.873672   7773.66\n",
       "4      초지고등학교       경기도 안산시 단원구 광덕1로 13  37.309868  126.810919   2667.32\n",
       "5      불곡고등학교     경기도 성남시 분당구 금곡로 149번지  37.348080  127.119199  25651.42\n",
       "6    인천부일초등학교     인천광역시 부평구 부개3동 499-85  37.500816  126.741244  24175.98\n",
       "7       심원중학교    경기도 부천시 원미구 중2동 1097-1  37.499926  126.782620  23067.52\n",
       "8  한국조리과학고등학교          경기도 시흥시 과림동 11-1  37.458561  126.832687  17983.33"
      ]
     },
     "execution_count": 47,
     "metadata": {},
     "output_type": "execute_result"
    }
   ],
   "source": [
    "fdata"
   ]
  },
  {
   "cell_type": "code",
   "execution_count": 48,
   "metadata": {},
   "outputs": [
    {
     "data": {
      "text/html": [
       "<div>\n",
       "<style scoped>\n",
       "    .dataframe tbody tr th:only-of-type {\n",
       "        vertical-align: middle;\n",
       "    }\n",
       "\n",
       "    .dataframe tbody tr th {\n",
       "        vertical-align: top;\n",
       "    }\n",
       "\n",
       "    .dataframe thead th {\n",
       "        text-align: right;\n",
       "    }\n",
       "</style>\n",
       "<table border=\"1\" class=\"dataframe\">\n",
       "  <thead>\n",
       "    <tr style=\"text-align: right;\">\n",
       "      <th></th>\n",
       "      <th>name</th>\n",
       "      <th>address</th>\n",
       "      <th>latitude</th>\n",
       "      <th>longitude</th>\n",
       "      <th>distance</th>\n",
       "    </tr>\n",
       "  </thead>\n",
       "  <tbody>\n",
       "    <tr>\n",
       "      <th>0</th>\n",
       "      <td>양지고등학교</td>\n",
       "      <td>경기도 안산시 단원구 고잔동 713번지</td>\n",
       "      <td>37.309535</td>\n",
       "      <td>126.822268</td>\n",
       "      <td>1879.41</td>\n",
       "    </tr>\n",
       "    <tr>\n",
       "      <th>1</th>\n",
       "      <td>초지고등학교</td>\n",
       "      <td>경기도 안산시 단원구 광덕1로 13</td>\n",
       "      <td>37.309868</td>\n",
       "      <td>126.810919</td>\n",
       "      <td>2667.32</td>\n",
       "    </tr>\n",
       "    <tr>\n",
       "      <th>2</th>\n",
       "      <td>상록고등학교</td>\n",
       "      <td>경기도 안산시 상록구 본오동 산127-1번지</td>\n",
       "      <td>37.299510</td>\n",
       "      <td>126.874971</td>\n",
       "      <td>3441.52</td>\n",
       "    </tr>\n",
       "    <tr>\n",
       "      <th>3</th>\n",
       "      <td>원곡고등학교</td>\n",
       "      <td>경기도 안산시 단원구 원곡동 965-1번지</td>\n",
       "      <td>37.333300</td>\n",
       "      <td>126.798053</td>\n",
       "      <td>5277.85</td>\n",
       "    </tr>\n",
       "    <tr>\n",
       "      <th>4</th>\n",
       "      <td>안산고등학교</td>\n",
       "      <td>경기도 안산시 상록구 청룡4길 8</td>\n",
       "      <td>37.360044</td>\n",
       "      <td>126.873672</td>\n",
       "      <td>7773.66</td>\n",
       "    </tr>\n",
       "    <tr>\n",
       "      <th>5</th>\n",
       "      <td>한국조리과학고등학교</td>\n",
       "      <td>경기도 시흥시 과림동 11-1</td>\n",
       "      <td>37.458561</td>\n",
       "      <td>126.832687</td>\n",
       "      <td>17983.33</td>\n",
       "    </tr>\n",
       "    <tr>\n",
       "      <th>6</th>\n",
       "      <td>심원중학교</td>\n",
       "      <td>경기도 부천시 원미구 중2동 1097-1</td>\n",
       "      <td>37.499926</td>\n",
       "      <td>126.782620</td>\n",
       "      <td>23067.52</td>\n",
       "    </tr>\n",
       "    <tr>\n",
       "      <th>7</th>\n",
       "      <td>인천부일초등학교</td>\n",
       "      <td>인천광역시 부평구 부개3동 499-85</td>\n",
       "      <td>37.500816</td>\n",
       "      <td>126.741244</td>\n",
       "      <td>24175.98</td>\n",
       "    </tr>\n",
       "    <tr>\n",
       "      <th>8</th>\n",
       "      <td>불곡고등학교</td>\n",
       "      <td>경기도 성남시 분당구 금곡로 149번지</td>\n",
       "      <td>37.348080</td>\n",
       "      <td>127.119199</td>\n",
       "      <td>25651.42</td>\n",
       "    </tr>\n",
       "  </tbody>\n",
       "</table>\n",
       "</div>"
      ],
      "text/plain": [
       "         name                   address   latitude   longitude  distance\n",
       "0      양지고등학교     경기도 안산시 단원구 고잔동 713번지  37.309535  126.822268   1879.41\n",
       "1      초지고등학교       경기도 안산시 단원구 광덕1로 13  37.309868  126.810919   2667.32\n",
       "2      상록고등학교  경기도 안산시 상록구 본오동 산127-1번지  37.299510  126.874971   3441.52\n",
       "3      원곡고등학교   경기도 안산시 단원구 원곡동 965-1번지  37.333300  126.798053   5277.85\n",
       "4      안산고등학교        경기도 안산시 상록구 청룡4길 8  37.360044  126.873672   7773.66\n",
       "5  한국조리과학고등학교          경기도 시흥시 과림동 11-1  37.458561  126.832687  17983.33\n",
       "6       심원중학교    경기도 부천시 원미구 중2동 1097-1  37.499926  126.782620  23067.52\n",
       "7    인천부일초등학교     인천광역시 부평구 부개3동 499-85  37.500816  126.741244  24175.98\n",
       "8      불곡고등학교     경기도 성남시 분당구 금곡로 149번지  37.348080  127.119199  25651.42"
      ]
     },
     "execution_count": 48,
     "metadata": {},
     "output_type": "execute_result"
    }
   ],
   "source": [
    "#거리 순으로 데이터 정렬하기\n",
    "fdata = fdata.sort_values('distance')\n",
    "fdata.reset_index(drop=True, inplace=True)\n",
    "fdata"
   ]
  },
  {
   "cell_type": "code",
   "execution_count": 49,
   "metadata": {},
   "outputs": [],
   "source": [
    "#가장 가까운 곳 찾기\n",
    "nearest_latlng = fdata.loc[0][['latitude', 'longitude']].values"
   ]
  },
  {
   "cell_type": "markdown",
   "metadata": {},
   "source": [
    "### (4) 지도로 표시하기"
   ]
  },
  {
   "cell_type": "code",
   "execution_count": 50,
   "metadata": {},
   "outputs": [
    {
     "data": {
      "text/html": [
       "<div style=\"width:100%;\"><div style=\"position:relative;width:100%;height:0;padding-bottom:60%;\"><iframe src=\"data:text/html;charset=utf-8;base64,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\" style=\"position:absolute;width:100%;height:100%;left:0;top:0;border:none !important;\" allowfullscreen webkitallowfullscreen mozallowfullscreen></iframe></div></div>"
      ],
      "text/plain": [
       "<folium.folium.Map at 0x240b262c6a0>"
      ]
     },
     "execution_count": 50,
     "metadata": {},
     "output_type": "execute_result"
    }
   ],
   "source": [
    "# 지도 \n",
    "hanyang_univ_map2 = folium.Map(location=[37.300853, 126.842930], zoom_start=13)\n",
    "# 가까운 학교표시\n",
    "folium.CircleMarker(nearest_latlng, popup=fdata.loc[0]['name'], color='red', fill_color='red', radius=5).add_to(hanyang_univ_map2)\n",
    "# 내 위치 표시\n",
    "folium.CircleMarker(my_location, popup=my_location_name,color='blue', fill_color='blue', radius=5).add_to(hanyang_univ_map2)\n",
    "hanyang_univ_map2"
   ]
  },
  {
   "cell_type": "code",
   "execution_count": null,
   "metadata": {},
   "outputs": [],
   "source": []
  }
 ],
 "metadata": {
  "anaconda-cloud": {},
  "kernelspec": {
   "display_name": "Python [default]",
   "language": "python",
   "name": "python3"
  },
  "language_info": {
   "codemirror_mode": {
    "name": "ipython",
    "version": 3
   },
   "file_extension": ".py",
   "mimetype": "text/x-python",
   "name": "python",
   "nbconvert_exporter": "python",
   "pygments_lexer": "ipython3",
   "version": "3.5.4"
  }
 },
 "nbformat": 4,
 "nbformat_minor": 2
}
